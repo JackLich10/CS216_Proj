{
 "cells": [
  {
   "cell_type": "markdown",
   "id": "ba5f8dde",
   "metadata": {},
   "source": [
    "# CS216 Project Prototype: Group 26\n",
    "#### Jack Lichtenstein, Shannon Houser, Libba Lawrence, and Linda Tang"
   ]
  },
  {
   "cell_type": "markdown",
   "id": "71658b27",
   "metadata": {},
   "source": [
    "## Part 1: Introduction and Research Questions\n",
    "\n",
    "Spotify is one of the world's largest music streaming service providers with over 365 million monthly active users. \n",
    "The Spotify database includes a variety of information on the characteristics and metrics of song tracks. Each song on Spotify is associated with a popularity index ranging from 0 to 100 reflecting how popular a song is relative to other songs. In this project, we plan to apply the analysis techniques that we learned in class to the Spotify music database. The **research question** is how can we predict the popularity of a song using characteristics such as danceability, energy, loudness and artist (descrbed below in the data sources section). We plan to explore different machine learning algorithms such as linear regression, decision trees and support vector regression and compare their relative performance on prediction. The scope of the project is feasible since the dataset we will use is readily avaiable online through Kaggle, the dataset contains a variety of songs and variables for analysis and it's in a relatively clean format. The algorithm from our project could  be helpful for the artist community to predict the popularity of new release songs ahead of time and could inform future researches on understanding what factors influence popularity on Spotify. "
   ]
  },
  {
   "cell_type": "markdown",
   "id": "cbf9ff19",
   "metadata": {},
   "source": [
    "## Part 2: Data Sources \n",
    "\n",
    "The data used for this project comes from an episode of the [Sliced](https://www.notion.so/SLICED-Show-c7bd26356e3a42279e2dfbafb0480073) data science challenge held in summer 2021. The data is accessible publicly on [Kaggle](https://www.kaggle.com/c/sliced-s01e08-KJSEks/data), and was initially extracted from the Spotify Web API. The competition provides three datasets, each of which we will make use of to answer our research questions:\n",
    "\n",
    "- train.csv - the training set\n",
    "- test.csv - the test set\n",
    "- artists.csv - data about artists in the dataset\n",
    "\n",
    "The train and test datasets are formatted the same way. We read in `train.csv` and `artists.csv` below. Additionally, we provide an in-depth data description as well."
   ]
  },
  {
   "cell_type": "code",
   "execution_count": 11,
   "id": "e51ec703",
   "metadata": {},
   "outputs": [],
   "source": [
    "# import some libraries\n",
    "import os\n",
    "import pandas as pd\n",
    "import numpy as np\n",
    "import seaborn as sns\n",
    "\n",
    "# setup the Seaborn style \n",
    "sns.set_theme()\n",
    "sns.set_context('talk')"
   ]
  },
  {
   "cell_type": "code",
   "execution_count": 2,
   "id": "b1a73827",
   "metadata": {},
   "outputs": [],
   "source": [
    "# change to one directory back (only run this once)\n",
    "os.chdir(os.path.normpath(os.getcwd() + os.sep + os.pardir))"
   ]
  },
  {
   "cell_type": "code",
   "execution_count": 3,
   "id": "148cd92b",
   "metadata": {},
   "outputs": [
    {
     "data": {
      "text/html": [
       "<div>\n",
       "<style scoped>\n",
       "    .dataframe tbody tr th:only-of-type {\n",
       "        vertical-align: middle;\n",
       "    }\n",
       "\n",
       "    .dataframe tbody tr th {\n",
       "        vertical-align: top;\n",
       "    }\n",
       "\n",
       "    .dataframe thead th {\n",
       "        text-align: right;\n",
       "    }\n",
       "</style>\n",
       "<table border=\"1\" class=\"dataframe\">\n",
       "  <thead>\n",
       "    <tr style=\"text-align: right;\">\n",
       "      <th></th>\n",
       "      <th>id</th>\n",
       "      <th>name</th>\n",
       "      <th>popularity</th>\n",
       "      <th>duration_ms</th>\n",
       "      <th>artists</th>\n",
       "      <th>id_artists</th>\n",
       "      <th>danceability</th>\n",
       "      <th>energy</th>\n",
       "      <th>key</th>\n",
       "      <th>loudness</th>\n",
       "      <th>speechiness</th>\n",
       "      <th>acousticness</th>\n",
       "      <th>instrumentalness</th>\n",
       "      <th>liveness</th>\n",
       "      <th>valence</th>\n",
       "      <th>tempo</th>\n",
       "      <th>release_year</th>\n",
       "      <th>release_month</th>\n",
       "      <th>release_day</th>\n",
       "    </tr>\n",
       "  </thead>\n",
       "  <tbody>\n",
       "    <tr>\n",
       "      <th>0</th>\n",
       "      <td>269</td>\n",
       "      <td>blun7 a swishland</td>\n",
       "      <td>63</td>\n",
       "      <td>167760.0</td>\n",
       "      <td>['tha Supreme']</td>\n",
       "      <td>['19i93sA0D7yS9dYoVNBqAA']</td>\n",
       "      <td>0.692</td>\n",
       "      <td>0.792</td>\n",
       "      <td>7</td>\n",
       "      <td>-5.984</td>\n",
       "      <td>0.2450</td>\n",
       "      <td>0.1300</td>\n",
       "      <td>0.000000</td>\n",
       "      <td>0.2550</td>\n",
       "      <td>0.566</td>\n",
       "      <td>129.883</td>\n",
       "      <td>2019</td>\n",
       "      <td>11.0</td>\n",
       "      <td>15.0</td>\n",
       "    </tr>\n",
       "    <tr>\n",
       "      <th>1</th>\n",
       "      <td>27504</td>\n",
       "      <td>Que Me Perdone Tu Señora</td>\n",
       "      <td>42</td>\n",
       "      <td>150640.0</td>\n",
       "      <td>['Manoella Torres']</td>\n",
       "      <td>['4JRKcLbpjobmoOVoOXPd6y']</td>\n",
       "      <td>0.608</td>\n",
       "      <td>0.447</td>\n",
       "      <td>6</td>\n",
       "      <td>-12.151</td>\n",
       "      <td>0.0663</td>\n",
       "      <td>0.3350</td>\n",
       "      <td>0.000035</td>\n",
       "      <td>0.1690</td>\n",
       "      <td>0.673</td>\n",
       "      <td>90.777</td>\n",
       "      <td>2007</td>\n",
       "      <td>3.0</td>\n",
       "      <td>21.0</td>\n",
       "    </tr>\n",
       "    <tr>\n",
       "      <th>2</th>\n",
       "      <td>16082</td>\n",
       "      <td>愛唄~since 2007~</td>\n",
       "      <td>42</td>\n",
       "      <td>242373.0</td>\n",
       "      <td>['whiteeeen']</td>\n",
       "      <td>['6v3VFX2qIWthj4Lr5QIxts']</td>\n",
       "      <td>0.572</td>\n",
       "      <td>0.782</td>\n",
       "      <td>8</td>\n",
       "      <td>-5.275</td>\n",
       "      <td>0.0361</td>\n",
       "      <td>0.3060</td>\n",
       "      <td>0.000000</td>\n",
       "      <td>0.3740</td>\n",
       "      <td>0.450</td>\n",
       "      <td>170.050</td>\n",
       "      <td>2016</td>\n",
       "      <td>3.0</td>\n",
       "      <td>9.0</td>\n",
       "    </tr>\n",
       "    <tr>\n",
       "      <th>3</th>\n",
       "      <td>14585</td>\n",
       "      <td>Let me be your uncle tonight</td>\n",
       "      <td>12</td>\n",
       "      <td>202989.0</td>\n",
       "      <td>['Tvíhöfði']</td>\n",
       "      <td>['6rmrk3Jk0Ecf8fjioCCZmV']</td>\n",
       "      <td>0.855</td>\n",
       "      <td>0.470</td>\n",
       "      <td>7</td>\n",
       "      <td>-9.252</td>\n",
       "      <td>0.1620</td>\n",
       "      <td>0.0111</td>\n",
       "      <td>0.000002</td>\n",
       "      <td>0.2640</td>\n",
       "      <td>0.864</td>\n",
       "      <td>102.008</td>\n",
       "      <td>2001</td>\n",
       "      <td>1.0</td>\n",
       "      <td>1.0</td>\n",
       "    </tr>\n",
       "    <tr>\n",
       "      <th>4</th>\n",
       "      <td>14740</td>\n",
       "      <td>Never Going Back Again - 2004 Remaster</td>\n",
       "      <td>40</td>\n",
       "      <td>134400.0</td>\n",
       "      <td>['Fleetwood Mac']</td>\n",
       "      <td>['08GQAI4eElDnROBrJRGE0X']</td>\n",
       "      <td>0.654</td>\n",
       "      <td>0.336</td>\n",
       "      <td>6</td>\n",
       "      <td>-12.825</td>\n",
       "      <td>0.0379</td>\n",
       "      <td>0.8580</td>\n",
       "      <td>0.385000</td>\n",
       "      <td>0.0786</td>\n",
       "      <td>0.947</td>\n",
       "      <td>176.083</td>\n",
       "      <td>1977</td>\n",
       "      <td>2.0</td>\n",
       "      <td>4.0</td>\n",
       "    </tr>\n",
       "  </tbody>\n",
       "</table>\n",
       "</div>"
      ],
      "text/plain": [
       "      id                                    name  popularity  duration_ms  \\\n",
       "0    269                       blun7 a swishland          63     167760.0   \n",
       "1  27504                Que Me Perdone Tu Señora          42     150640.0   \n",
       "2  16082                          愛唄~since 2007~          42     242373.0   \n",
       "3  14585            Let me be your uncle tonight          12     202989.0   \n",
       "4  14740  Never Going Back Again - 2004 Remaster          40     134400.0   \n",
       "\n",
       "               artists                  id_artists  danceability  energy  key  \\\n",
       "0      ['tha Supreme']  ['19i93sA0D7yS9dYoVNBqAA']         0.692   0.792    7   \n",
       "1  ['Manoella Torres']  ['4JRKcLbpjobmoOVoOXPd6y']         0.608   0.447    6   \n",
       "2        ['whiteeeen']  ['6v3VFX2qIWthj4Lr5QIxts']         0.572   0.782    8   \n",
       "3         ['Tvíhöfði']  ['6rmrk3Jk0Ecf8fjioCCZmV']         0.855   0.470    7   \n",
       "4    ['Fleetwood Mac']  ['08GQAI4eElDnROBrJRGE0X']         0.654   0.336    6   \n",
       "\n",
       "   loudness  speechiness  acousticness  instrumentalness  liveness  valence  \\\n",
       "0    -5.984       0.2450        0.1300          0.000000    0.2550    0.566   \n",
       "1   -12.151       0.0663        0.3350          0.000035    0.1690    0.673   \n",
       "2    -5.275       0.0361        0.3060          0.000000    0.3740    0.450   \n",
       "3    -9.252       0.1620        0.0111          0.000002    0.2640    0.864   \n",
       "4   -12.825       0.0379        0.8580          0.385000    0.0786    0.947   \n",
       "\n",
       "     tempo  release_year  release_month  release_day  \n",
       "0  129.883          2019           11.0         15.0  \n",
       "1   90.777          2007            3.0         21.0  \n",
       "2  170.050          2016            3.0          9.0  \n",
       "3  102.008          2001            1.0          1.0  \n",
       "4  176.083          1977            2.0          4.0  "
      ]
     },
     "execution_count": 3,
     "metadata": {},
     "output_type": "execute_result"
    }
   ],
   "source": [
    "# read in spotify data\n",
    "spotify_train = pd.read_csv(\"data/train.csv\")\n",
    "spotify_train.head()"
   ]
  },
  {
   "cell_type": "code",
   "execution_count": 4,
   "id": "edc4d6db",
   "metadata": {},
   "outputs": [
    {
     "data": {
      "text/html": [
       "<div>\n",
       "<style scoped>\n",
       "    .dataframe tbody tr th:only-of-type {\n",
       "        vertical-align: middle;\n",
       "    }\n",
       "\n",
       "    .dataframe tbody tr th {\n",
       "        vertical-align: top;\n",
       "    }\n",
       "\n",
       "    .dataframe thead th {\n",
       "        text-align: right;\n",
       "    }\n",
       "</style>\n",
       "<table border=\"1\" class=\"dataframe\">\n",
       "  <thead>\n",
       "    <tr style=\"text-align: right;\">\n",
       "      <th></th>\n",
       "      <th>id</th>\n",
       "      <th>followers</th>\n",
       "      <th>genres</th>\n",
       "      <th>name</th>\n",
       "      <th>popularity</th>\n",
       "    </tr>\n",
       "  </thead>\n",
       "  <tbody>\n",
       "    <tr>\n",
       "      <th>0</th>\n",
       "      <td>55CXG5KDJpRYwBopfYAJHa</td>\n",
       "      <td>21756</td>\n",
       "      <td>['country blues', 'country rock', 'piedmont bl...</td>\n",
       "      <td>Jorma Kaukonen</td>\n",
       "      <td>40</td>\n",
       "    </tr>\n",
       "    <tr>\n",
       "      <th>1</th>\n",
       "      <td>08mjMUUjyTchMHCW7evc3R</td>\n",
       "      <td>640993</td>\n",
       "      <td>['turkish pop']</td>\n",
       "      <td>Hande Yener</td>\n",
       "      <td>62</td>\n",
       "    </tr>\n",
       "    <tr>\n",
       "      <th>2</th>\n",
       "      <td>3Ebn7mKYzD0L3DaUB1gNJZ</td>\n",
       "      <td>161509</td>\n",
       "      <td>['celtic', 'irish folk']</td>\n",
       "      <td>Christy Moore</td>\n",
       "      <td>56</td>\n",
       "    </tr>\n",
       "    <tr>\n",
       "      <th>3</th>\n",
       "      <td>7GfaHcpmNcrcHoyGnOBsAz</td>\n",
       "      <td>9578</td>\n",
       "      <td>['kindermusik', 'kleine hoerspiel']</td>\n",
       "      <td>Die Biene Maja</td>\n",
       "      <td>56</td>\n",
       "    </tr>\n",
       "    <tr>\n",
       "      <th>4</th>\n",
       "      <td>1DYXGLnfNDt8mO2aK9k83j</td>\n",
       "      <td>48876</td>\n",
       "      <td>['opm', 'vispop']</td>\n",
       "      <td>Jay-R Siaboc</td>\n",
       "      <td>39</td>\n",
       "    </tr>\n",
       "  </tbody>\n",
       "</table>\n",
       "</div>"
      ],
      "text/plain": [
       "                       id  followers  \\\n",
       "0  55CXG5KDJpRYwBopfYAJHa      21756   \n",
       "1  08mjMUUjyTchMHCW7evc3R     640993   \n",
       "2  3Ebn7mKYzD0L3DaUB1gNJZ     161509   \n",
       "3  7GfaHcpmNcrcHoyGnOBsAz       9578   \n",
       "4  1DYXGLnfNDt8mO2aK9k83j      48876   \n",
       "\n",
       "                                              genres            name  \\\n",
       "0  ['country blues', 'country rock', 'piedmont bl...  Jorma Kaukonen   \n",
       "1                                    ['turkish pop']     Hande Yener   \n",
       "2                           ['celtic', 'irish folk']   Christy Moore   \n",
       "3                ['kindermusik', 'kleine hoerspiel']  Die Biene Maja   \n",
       "4                                  ['opm', 'vispop']    Jay-R Siaboc   \n",
       "\n",
       "   popularity  \n",
       "0          40  \n",
       "1          62  \n",
       "2          56  \n",
       "3          56  \n",
       "4          39  "
      ]
     },
     "execution_count": 4,
     "metadata": {},
     "output_type": "execute_result"
    }
   ],
   "source": [
    "# read in spotify artist data\n",
    "spotify_artists = pd.read_csv(\"data/artists.csv\")\n",
    "spotify_artists.head()"
   ]
  },
  {
   "cell_type": "markdown",
   "id": "0a6538ac",
   "metadata": {},
   "source": [
    "## Exploratory Data Analysis"
   ]
  },
  {
   "cell_type": "code",
   "execution_count": 5,
   "id": "3f83f3eb",
   "metadata": {},
   "outputs": [],
   "source": [
    "# remove brackets from genres and split by comma\n",
    "spotify_artists['genres'] = spotify_artists['genres'].str.strip('[]').str.split(', ')\n",
    "# separate each genre into it's own row\n",
    "spotify_artists = spotify_artists.explode('genres')"
   ]
  },
  {
   "cell_type": "code",
   "execution_count": 6,
   "id": "e24d1151",
   "metadata": {},
   "outputs": [],
   "source": [
    "spotify_artists['genres'] = spotify_artists['genres'].str.strip(\"'\")\n",
    "# get rid of genres that are blank\n",
    "spotify_artists = spotify_artists[spotify_artists['genres'] != '']"
   ]
  },
  {
   "cell_type": "code",
   "execution_count": 7,
   "id": "dadca62b",
   "metadata": {},
   "outputs": [],
   "source": [
    "# coun the most frequent genres\n",
    "genre_counts = spotify_artists['genres'].value_counts().reset_index().rename(columns={'index': 'genre', 'genres': 'count'})"
   ]
  },
  {
   "cell_type": "code",
   "execution_count": 8,
   "id": "0dbbf758",
   "metadata": {},
   "outputs": [
    {
     "data": {
      "text/plain": [
       "<AxesSubplot:xlabel='count', ylabel='genre'>"
      ]
     },
     "execution_count": 8,
     "metadata": {},
     "output_type": "execute_result"
    },
    {
     "data": {
      "image/png": "[encoded data removed]",
      "text/plain": [
       "<Figure size 432x288 with 1 Axes>"
      ]
     },
     "metadata": {},
     "output_type": "display_data"
    }
   ],
   "source": [
    "# plot most common genres that artists use\n",
    "sns.barplot(x = 'count', y = 'genre', data = genre_counts.head(10))"
   ]
  },
  {
   "cell_type": "code",
   "execution_count": 10,
   "id": "589a96fa",
   "metadata": {},
   "outputs": [
    {
     "data": {
      "text/plain": [
       "<AxesSubplot:xlabel='popularity', ylabel='Count'>"
      ]
     },
     "execution_count": 10,
     "metadata": {},
     "output_type": "execute_result"
    },
    {
     "data": {
      "image/png": "[encoded data removed]",
      "text/plain": [
       "<Figure size 432x288 with 1 Axes>"
      ]
     },
     "metadata": {},
     "output_type": "display_data"
    }
   ],
   "source": [
    "sns.histplot(x = 'popularity', data = spotify_artists, bins = 30)"
   ]
  },
  {
   "cell_type": "code",
   "execution_count": null,
   "id": "a75821fa",
   "metadata": {},
   "outputs": [],
   "source": []
  }
 ],
 "metadata": {
  "kernelspec": {
   "display_name": "Python 3",
   "language": "python",
   "name": "python3"
  },
  "language_info": {
   "codemirror_mode": {
    "name": "ipython",
    "version": 3
   },
   "file_extension": ".py",
   "mimetype": "text/x-python",
   "name": "python",
   "nbconvert_exporter": "python",
   "pygments_lexer": "ipython3",
   "version": "3.8.8"
  }
 },
 "nbformat": 4,
 "nbformat_minor": 5
}
